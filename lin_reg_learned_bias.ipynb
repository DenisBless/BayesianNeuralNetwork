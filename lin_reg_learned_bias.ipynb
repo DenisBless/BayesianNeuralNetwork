{
 "cells": [
  {
   "cell_type": "code",
   "execution_count": 1,
   "metadata": {
    "collapsed": true,
    "pycharm": {
     "is_executing": false
    }
   },
   "outputs": [],
   "source": [
    "import numpy as np\n",
    "import torch\n",
    "import torch.utils.data as Data\n",
    "import matplotlib.pyplot as plt\n",
    "import torch.nn.functional as F\n",
    "from bayesian_linear import BayesLinear"
   ]
  },
  {
   "cell_type": "code",
   "execution_count": 19,
   "outputs": [],
   "source": [
    "# Bayesian Neural Network\n",
    "class LR(torch.nn.Module):\n",
    "    def __init__(self, n_gaussians: int=10):\n",
    "        super(LR, self).__init__()\n",
    "        self.n_gaussians = n_gaussians\n",
    "        self.gauss_bias = torch.nn.Parameter(torch.zeros(n_gaussians))\n",
    "        self.gauss_sig = torch.nn.Parameter(torch.ones(n_gaussians))\n",
    "        # If bias == True then the function does not extrapolate to zero\n",
    "        self.linear1 = torch.nn.Linear(n_gaussians, 1, bias=False)  \n",
    "        self.exp_layer = lambda x, b, sig: torch.exp(-torch.square((x - b)/sig))\n",
    "    \n",
    "    def get_exp_outputs(self, x):\n",
    "        if x.dim() == 2:\n",
    "            x = x.expand(-1, self.n_gaussians)\n",
    "        return self.exp_layer(x, self.gauss_bias, self.gauss_sig)\n",
    "    \n",
    "    def forward(self, x):\n",
    "        if x.dim() == 2:\n",
    "            x = x.expand(-1, self.n_gaussians)\n",
    "        x = self.exp_layer(x, self.gauss_bias, self.gauss_sig)\n",
    "        return self.linear1(x)"
   ],
   "metadata": {
    "collapsed": false,
    "pycharm": {
     "name": "#%%\n",
     "is_executing": false
    }
   }
  },
  {
   "cell_type": "code",
   "execution_count": 20,
   "outputs": [],
   "source": [
    "# Build data sets\n",
    "def get_dset1():\n",
    "    x1 = np.linspace(-10, -7, 20)\n",
    "    y1 = np.ones_like(x1)\n",
    "    x2 = np.linspace(-4, -2, 30)\n",
    "    y2 = np.zeros_like(x2)\n",
    "    x3 = np.linspace(1, 3, 20)\n",
    "    y3 = np.ones_like(x3)\n",
    "\n",
    "    X = torch.Tensor(np.concatenate([x1, x2, x3])).reshape(-1, 1)\n",
    "    Y = torch.Tensor(np.concatenate([y1, y2, y3]))\n",
    "    return X, Y"
   ],
   "metadata": {
    "collapsed": false,
    "pycharm": {
     "name": "#%%\n",
     "is_executing": false
    }
   }
  },
  {
   "cell_type": "code",
   "execution_count": 21,
   "outputs": [
    {
     "name": "stdout",
     "text": [
      "Epoch Nr.: 0 . Loss:  0.7007083892822266\n",
      "Epoch Nr.: 1 . Loss:  0.1985650211572647\n",
      "Epoch Nr.: 2 . Loss:  0.4809322953224182\n",
      "Epoch Nr.: 3 . Loss:  0.5734094381332397\n",
      "Epoch Nr.: 4 . Loss:  0.3634800612926483\n",
      "Epoch Nr.: 5 . Loss:  0.4950471818447113\n",
      "Epoch Nr.: 6 . Loss:  0.5724297761917114\n",
      "Epoch Nr.: 7 . Loss:  0.6906601190567017\n",
      "Epoch Nr.: 8 . Loss:  0.5161029696464539\n",
      "Epoch Nr.: 9 . Loss:  0.3830873966217041\n",
      "Epoch Nr.: 10 . Loss:  0.5147016644477844\n",
      "Epoch Nr.: 11 . Loss:  0.5004446506500244\n",
      "Epoch Nr.: 12 . Loss:  0.5951477289199829\n",
      "Epoch Nr.: 13 . Loss:  0.40518730878829956\n",
      "Epoch Nr.: 14 . Loss:  0.4017840325832367\n",
      "Epoch Nr.: 15 . Loss:  0.2325296849012375\n",
      "Epoch Nr.: 16 . Loss:  0.138917475938797\n",
      "Epoch Nr.: 17 . Loss:  0.2678399682044983\n",
      "Epoch Nr.: 18 . Loss:  0.5006439089775085\n",
      "Epoch Nr.: 19 . Loss:  0.5281698107719421\n",
      "Epoch Nr.: 20 . Loss:  0.3913052976131439\n",
      "Epoch Nr.: 21 . Loss:  0.37064069509506226\n",
      "Epoch Nr.: 22 . Loss:  0.4196084141731262\n",
      "Epoch Nr.: 23 . Loss:  0.25765368342399597\n",
      "Epoch Nr.: 24 . Loss:  0.20850694179534912\n",
      "Epoch Nr.: 25 . Loss:  0.29350581765174866\n",
      "Epoch Nr.: 26 . Loss:  0.330221951007843\n",
      "Epoch Nr.: 27 . Loss:  0.37636232376098633\n",
      "Epoch Nr.: 28 . Loss:  0.20983922481536865\n",
      "Epoch Nr.: 29 . Loss:  0.13672323524951935\n",
      "Epoch Nr.: 30 . Loss:  0.35737764835357666\n",
      "Epoch Nr.: 31 . Loss:  0.42354851961135864\n",
      "Epoch Nr.: 32 . Loss:  0.3255254030227661\n",
      "Epoch Nr.: 33 . Loss:  0.25087279081344604\n",
      "Epoch Nr.: 34 . Loss:  0.23787394165992737\n",
      "Epoch Nr.: 35 . Loss:  0.44325175881385803\n",
      "Epoch Nr.: 36 . Loss:  0.10768944025039673\n",
      "Epoch Nr.: 37 . Loss:  0.31002697348594666\n",
      "Epoch Nr.: 38 . Loss:  0.5017204284667969\n",
      "Epoch Nr.: 39 . Loss:  0.3425633907318115\n",
      "Epoch Nr.: 40 . Loss:  0.20487304031848907\n",
      "Epoch Nr.: 41 . Loss:  0.16517576575279236\n",
      "Epoch Nr.: 42 . Loss:  0.3158547282218933\n",
      "Epoch Nr.: 43 . Loss:  0.21786189079284668\n",
      "Epoch Nr.: 44 . Loss:  0.35409998893737793\n",
      "Epoch Nr.: 45 . Loss:  0.32448646426200867\n",
      "Epoch Nr.: 46 . Loss:  0.22200390696525574\n",
      "Epoch Nr.: 47 . Loss:  0.40452662110328674\n",
      "Epoch Nr.: 48 . Loss:  0.23243364691734314\n",
      "Epoch Nr.: 49 . Loss:  0.20217521488666534\n",
      "Epoch Nr.: 50 . Loss:  0.20307405292987823\n",
      "Epoch Nr.: 51 . Loss:  0.13548973202705383\n",
      "Epoch Nr.: 52 . Loss:  0.3073050081729889\n",
      "Epoch Nr.: 53 . Loss:  0.02178933098912239\n",
      "Epoch Nr.: 54 . Loss:  0.30691635608673096\n",
      "Epoch Nr.: 55 . Loss:  0.10427554696798325\n",
      "Epoch Nr.: 56 . Loss:  0.21262745559215546\n",
      "Epoch Nr.: 57 . Loss:  0.4143194258213043\n",
      "Epoch Nr.: 58 . Loss:  0.2088651955127716\n",
      "Epoch Nr.: 59 . Loss:  0.32200273871421814\n",
      "Epoch Nr.: 60 . Loss:  0.4039159417152405\n",
      "Epoch Nr.: 61 . Loss:  0.005620948038995266\n",
      "Epoch Nr.: 62 . Loss:  0.20538058876991272\n",
      "Epoch Nr.: 63 . Loss:  0.3018433451652527\n",
      "Epoch Nr.: 64 . Loss:  0.21762530505657196\n",
      "Epoch Nr.: 65 . Loss:  0.30903059244155884\n",
      "Epoch Nr.: 66 . Loss:  0.40189027786254883\n",
      "Epoch Nr.: 67 . Loss:  0.40204501152038574\n",
      "Epoch Nr.: 68 . Loss:  0.2057018280029297\n",
      "Epoch Nr.: 69 . Loss:  0.10559415817260742\n",
      "Epoch Nr.: 70 . Loss:  0.1118406429886818\n",
      "Epoch Nr.: 71 . Loss:  0.4088659882545471\n",
      "Epoch Nr.: 72 . Loss:  0.30978474020957947\n",
      "Epoch Nr.: 73 . Loss:  0.3116125762462616\n",
      "Epoch Nr.: 74 . Loss:  0.10220272839069366\n",
      "Epoch Nr.: 75 . Loss:  0.40734243392944336\n",
      "Epoch Nr.: 76 . Loss:  0.30078932642936707\n",
      "Epoch Nr.: 77 . Loss:  0.5021982192993164\n",
      "Epoch Nr.: 78 . Loss:  0.30338388681411743\n",
      "Epoch Nr.: 79 . Loss:  0.2038959562778473\n",
      "Epoch Nr.: 80 . Loss:  0.5014695525169373\n",
      "Epoch Nr.: 81 . Loss:  0.1015554666519165\n",
      "Epoch Nr.: 82 . Loss:  0.4014205038547516\n",
      "Epoch Nr.: 83 . Loss:  0.20261724293231964\n",
      "Epoch Nr.: 84 . Loss:  0.3019050657749176\n",
      "Epoch Nr.: 85 . Loss:  0.20583148300647736\n",
      "Epoch Nr.: 86 . Loss:  0.500981330871582\n",
      "Epoch Nr.: 87 . Loss:  0.20472033321857452\n",
      "Epoch Nr.: 88 . Loss:  0.10366468131542206\n",
      "Epoch Nr.: 89 . Loss:  0.3072796165943146\n",
      "Epoch Nr.: 90 . Loss:  0.403472900390625\n",
      "Epoch Nr.: 91 . Loss:  0.20724785327911377\n",
      "Epoch Nr.: 92 . Loss:  0.5053221583366394\n",
      "Epoch Nr.: 93 . Loss:  0.0030987130012363195\n",
      "Epoch Nr.: 94 . Loss:  0.30665063858032227\n",
      "Epoch Nr.: 95 . Loss:  0.40091028809547424\n",
      "Epoch Nr.: 96 . Loss:  0.3011946678161621\n",
      "Epoch Nr.: 97 . Loss:  0.30645161867141724\n",
      "Epoch Nr.: 98 . Loss:  0.20040397346019745\n",
      "Epoch Nr.: 99 . Loss:  0.2027241438627243\n"
     ],
     "output_type": "stream"
    }
   ],
   "source": [
    "X, Y = get_dset1()\n",
    "model = LR()\n",
    "\n",
    "torch_dataset = Data.TensorDataset(X, Y)\n",
    "BATCH_SIZE = 30\n",
    "loader = Data.DataLoader(\n",
    "    dataset=torch_dataset,\n",
    "    batch_size=BATCH_SIZE,\n",
    "    shuffle=True, num_workers=2)\n",
    "\n",
    "num_epochs = 100\n",
    "\n",
    "loss_fn = torch.nn.MSELoss()\n",
    "loss_hist = []\n",
    "optim = torch.optim.Adam(params=model.parameters(), lr=1e-2)\n",
    "\n",
    "for epoch in range(num_epochs):\n",
    "    for i, (batch_x, batch_y) in enumerate(loader):  # for each training step\n",
    "        y_pred = model(batch_x).view(-1,)\n",
    "        assert y_pred.shape == batch_y.shape\n",
    "        loss = loss_fn(y_pred, batch_y)\n",
    "        optim.zero_grad()\n",
    "        loss.backward()\n",
    "        optim.step()\n",
    "    print(\"Epoch Nr.:\", epoch, \". Loss: \", loss.item())"
   ],
   "metadata": {
    "collapsed": false,
    "pycharm": {
     "name": "#%%\n",
     "is_executing": false
    }
   }
  },
  {
   "cell_type": "code",
   "execution_count": 26,
   "outputs": [],
   "source": [
    "def plot_fn(model, X, Y):\n",
    "    x = torch.linspace(-50, 50, 300).reshape(-1, 1)\n",
    "    y = model(x)\n",
    "    plt.plot(x, y.detach().numpy())\n",
    "    plt.scatter(X, Y)\n",
    "    plt.show()\n",
    "    \n",
    "def plot_gaussians(model):\n",
    "    x = np.linspace(-20, 20, 300)\n",
    "    means = None\n",
    "    sig = None\n",
    "    for name, params in model.named_parameters():\n",
    "        if name=='gauss_bias':\n",
    "            means = params\n",
    "        if name=='gauss_sig':\n",
    "            sig = params\n",
    "    \n",
    "    for i in range(means.shape[0]):\n",
    "        plt.plot(x, np.exp(-np.square((x- means[i].item())/sig[i].item())))\n",
    "    plt.show()\n",
    "        \n",
    "        \n",
    "            \n",
    "            "
   ],
   "metadata": {
    "collapsed": false,
    "pycharm": {
     "name": "#%%\n",
     "is_executing": false
    }
   }
  },
  {
   "cell_type": "code",
   "execution_count": 27,
   "outputs": [
    {
     "data": {
      "text/plain": "<Figure size 432x288 with 1 Axes>",
      "image/png": "[encoded data removed]"
     },
     "metadata": {
      "needs_background": "light"
     },
     "output_type": "display_data"
    },
    {
     "data": {
      "text/plain": "<Figure size 432x288 with 1 Axes>",
      "image/png": "[encoded data removed]"
     },
     "metadata": {
      "needs_background": "light"
     },
     "output_type": "display_data"
    }
   ],
   "source": [
    "plot_fn(model, X, Y)\n",
    "plot_gaussians(model)"
   ],
   "metadata": {
    "collapsed": false,
    "pycharm": {
     "name": "#%%\n",
     "is_executing": false
    }
   }
  },
  {
   "cell_type": "code",
   "execution_count": 30,
   "outputs": [
    {
     "name": "stdout",
     "text": [
      "Parameter containing:\n",
      "tensor([-0.1833,  1.2513, -0.2245, -0.2258,  1.4973,  0.8232, -0.1414, -0.2657,\n",
      "         0.3520, -0.2218], requires_grad=True)\n",
      "Parameter containing:\n",
      "tensor([0.9676, 2.1601, 0.8172, 0.8109, 2.2828, 1.9149, 1.0642, 0.7279, 1.8899,\n",
      "        0.8299], requires_grad=True)\n"
     ],
     "output_type": "stream"
    }
   ],
   "source": [
    "# print(model.get_exp_outputs(torch.tensor([-1, 20]).view(-1, 1)))\n",
    "for name, param in model.named_parameters():\n",
    "    if name=='gauss_bias':\n",
    "        print(param)\n",
    "    if name=='gauss_sig':\n",
    "        print(param)\n",
    "        "
   ],
   "metadata": {
    "collapsed": false,
    "pycharm": {
     "name": "#%%\n",
     "is_executing": false
    }
   }
  },
  {
   "cell_type": "code",
   "execution_count": null,
   "outputs": [],
   "source": [
    "\n"
   ],
   "metadata": {
    "collapsed": false,
    "pycharm": {
     "name": "#%%\n"
    }
   }
  }
 ],
 "metadata": {
  "kernelspec": {
   "display_name": "Python 3",
   "language": "python",
   "name": "python3"
  },
  "language_info": {
   "codemirror_mode": {
    "name": "ipython",
    "version": 2
   },
   "file_extension": ".py",
   "mimetype": "text/x-python",
   "name": "python",
   "nbconvert_exporter": "python",
   "pygments_lexer": "ipython2",
   "version": "2.7.6"
  },
  "pycharm": {
   "stem_cell": {
    "cell_type": "raw",
    "source": [],
    "metadata": {
     "collapsed": false
    }
   }
  }
 },
 "nbformat": 4,
 "nbformat_minor": 0
}